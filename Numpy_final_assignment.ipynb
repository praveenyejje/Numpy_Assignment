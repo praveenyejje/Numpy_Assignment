{
 "cells": [
  {
   "cell_type": "code",
   "execution_count": 2,
   "id": "6af2f615",
   "metadata": {},
   "outputs": [],
   "source": [
    "import numpy as np"
   ]
  },
  {
   "cell_type": "code",
   "execution_count": 2,
   "id": "847e635d",
   "metadata": {},
   "outputs": [],
   "source": [
    "data=np.genfromtxt(r\"C:\\Users\\prave\\Downloads\\tipsf.csv\",delimiter=\",\",skip_header=1)"
   ]
  },
  {
   "cell_type": "code",
   "execution_count": 3,
   "id": "db91b87a",
   "metadata": {},
   "outputs": [],
   "source": [
    "datac=data.copy()"
   ]
  },
  {
   "cell_type": "markdown",
   "id": "affa89bb",
   "metadata": {},
   "source": [
    "## 1.Solve the below problem by using only numpy on tip data set \n"
   ]
  },
  {
   "cell_type": "code",
   "execution_count": 4,
   "id": "5802fb6b",
   "metadata": {},
   "outputs": [
    {
     "data": {
      "text/plain": [
       "array([[  0.  ,  16.99,   1.01, ...,   1.  ,   0.  ,   2.  ],\n",
       "       [  1.  ,  10.34,   1.66, ...,   1.  ,   0.  ,   3.  ],\n",
       "       [  2.  ,  21.01,   3.5 , ...,   1.  ,   0.  ,   3.  ],\n",
       "       ...,\n",
       "       [241.  ,  22.67,   2.  , ...,   0.  ,   0.  ,   2.  ],\n",
       "       [242.  ,  17.82,   1.75, ...,   0.  ,   0.  ,   2.  ],\n",
       "       [243.  ,  18.78,   3.  , ...,   2.  ,   0.  ,   2.  ]])"
      ]
     },
     "execution_count": 4,
     "metadata": {},
     "output_type": "execute_result"
    }
   ],
   "source": [
    "datac"
   ]
  },
  {
   "cell_type": "code",
   "execution_count": null,
   "id": "4877c87e",
   "metadata": {},
   "outputs": [],
   "source": []
  },
  {
   "cell_type": "markdown",
   "id": "cd5da6c8",
   "metadata": {},
   "source": [
    "### 1. What is the total bill value?"
   ]
  },
  {
   "cell_type": "code",
   "execution_count": 5,
   "id": "297dff57",
   "metadata": {},
   "outputs": [
    {
     "data": {
      "text/plain": [
       "4827.77"
      ]
     },
     "execution_count": 5,
     "metadata": {},
     "output_type": "execute_result"
    }
   ],
   "source": [
    "np.sum(datac[:,1])"
   ]
  },
  {
   "cell_type": "markdown",
   "id": "af31ca3e",
   "metadata": {},
   "source": [
    "### 2. What is the total tip value?\n"
   ]
  },
  {
   "cell_type": "code",
   "execution_count": 7,
   "id": "c28ec40b",
   "metadata": {},
   "outputs": [
    {
     "data": {
      "text/plain": [
       "731.5799999999999"
      ]
     },
     "execution_count": 7,
     "metadata": {},
     "output_type": "execute_result"
    }
   ],
   "source": [
    "np.sum(datac[:,2])"
   ]
  },
  {
   "cell_type": "markdown",
   "id": "8271e783",
   "metadata": {},
   "source": [
    "### 3. Count how many sun,sat,thu,fri are there."
   ]
  },
  {
   "cell_type": "code",
   "execution_count": 8,
   "id": "9a1107e8",
   "metadata": {},
   "outputs": [
    {
     "name": "stdout",
     "output_type": "stream",
     "text": [
      "sun =  87\n",
      "sat =  76\n",
      "thu =  62\n",
      "fri =  19\n"
     ]
    }
   ],
   "source": [
    "x1=np.unique(datac[:,5],return_counts=True)\n",
    "a,s=x1\n",
    "y=0\n",
    "for i in a:\n",
    "    if(i==0):\n",
    "        print(\"sun = \",s[y])\n",
    "        y+=1\n",
    "    elif(i==1):\n",
    "        print(\"sat = \",s[y])\n",
    "        y+=1\n",
    "    elif(i==2):\n",
    "        print(\"thu = \",s[y])\n",
    "        y+=1\n",
    "    else:\n",
    "        print(\"fri = \",s[y])\n",
    "        y+=1"
   ]
  },
  {
   "cell_type": "markdown",
   "id": "1460f9ee",
   "metadata": {},
   "source": [
    "### 4. How many smokers are there?"
   ]
  },
  {
   "cell_type": "code",
   "execution_count": 9,
   "id": "1b104ea3",
   "metadata": {},
   "outputs": [
    {
     "data": {
      "text/plain": [
       "93.0"
      ]
     },
     "execution_count": 9,
     "metadata": {},
     "output_type": "execute_result"
    }
   ],
   "source": [
    "np.sum(datac[:,4])"
   ]
  },
  {
   "cell_type": "markdown",
   "id": "f27070c2",
   "metadata": {},
   "source": [
    "### 5. What is the avg tip given by females and males?\n"
   ]
  },
  {
   "cell_type": "code",
   "execution_count": 14,
   "id": "6cfa4427",
   "metadata": {},
   "outputs": [
    {
     "name": "stdout",
     "output_type": "stream",
     "text": [
      "2.8334482758620685 avg tip by female\n",
      "1.5701273885350315 avg tip by male\n"
     ]
    }
   ],
   "source": [
    "x1=np.sum(datac[:,2].take(np.where(datac[:,3]==0)))\n",
    "x2=np.sum(datac[:,2].take(np.where(datac[:,3]==1)))\n",
    "y=np.unique(datac[:,3],return_counts=True)\n",
    "q,z=y\n",
    "print(x1/z[0],\"avg tip by female\")\n",
    "print(x1/z[1],\"avg tip by male\")"
   ]
  },
  {
   "cell_type": "markdown",
   "id": "7b0712c7",
   "metadata": {},
   "source": [
    "### 6. How much amount has been spent by male and female?\n"
   ]
  },
  {
   "cell_type": "code",
   "execution_count": 16,
   "id": "b5ac5fd3",
   "metadata": {},
   "outputs": [
    {
     "name": "stdout",
     "output_type": "stream",
     "text": [
      "1570.9499999999996 = amount spent by females\n",
      "3256.8199999999997 = amount spent by males\n"
     ]
    }
   ],
   "source": [
    "y1=np.sum(datac[:,1].take(np.where(datac[:,3]==0)))\n",
    "y2=np.sum(datac[:,1].take(np.where(datac[:,3]==1)))\n",
    "print(y1,\"= amount spent by females\")\n",
    "print(y2,\"= amount spent by males\") "
   ]
  },
  {
   "cell_type": "markdown",
   "id": "789b6ab7",
   "metadata": {},
   "source": [
    "### 7. What is the min and max tip?"
   ]
  },
  {
   "cell_type": "code",
   "execution_count": 19,
   "id": "8a2b9d94",
   "metadata": {},
   "outputs": [
    {
     "data": {
      "text/plain": [
       "1.0"
      ]
     },
     "execution_count": 19,
     "metadata": {},
     "output_type": "execute_result"
    }
   ],
   "source": [
    "np.min(datac[:,2])"
   ]
  },
  {
   "cell_type": "code",
   "execution_count": 20,
   "id": "8d65dd70",
   "metadata": {},
   "outputs": [
    {
     "data": {
      "text/plain": [
       "10.0"
      ]
     },
     "execution_count": 20,
     "metadata": {},
     "output_type": "execute_result"
    }
   ],
   "source": [
    "np.max(datac[:,2])\n"
   ]
  },
  {
   "cell_type": "markdown",
   "id": "3342c1f6",
   "metadata": {},
   "source": [
    "### 8. How many male and female are going for dinner and lunch?"
   ]
  },
  {
   "cell_type": "code",
   "execution_count": 26,
   "id": "87f6d5c2",
   "metadata": {},
   "outputs": [
    {
     "name": "stdout",
     "output_type": "stream",
     "text": [
      "total female going for lunch 35\n",
      "total female going for dinner 52\n",
      "total male going for lunch 33\n",
      "total female going for dinner 124\n"
     ]
    }
   ],
   "source": [
    "x1=np.unique(datac[:,3].take(np.where((datac[:,6]==1))),return_counts=True)      \n",
    "a,b=x1\n",
    "x2=np.unique(datac[:,3].take(np.where((datac[:,6]==0))),return_counts=True)      \n",
    "c,d=x2\n",
    "for i in a:\n",
    "    if(i==0):\n",
    "        print(\"total female going for lunch\",b[0])\n",
    "        print(\"total female going for dinner\",d[0])\n",
    "    else:\n",
    "         print(\"total male going for lunch\",b[1])\n",
    "         print(\"total female going for dinner\",d[1])\n"
   ]
  },
  {
   "cell_type": "markdown",
   "id": "3bd9db2d",
   "metadata": {},
   "source": [
    "### 9. Find out the avg size"
   ]
  },
  {
   "cell_type": "code",
   "execution_count": 28,
   "id": "b22ec6df",
   "metadata": {},
   "outputs": [
    {
     "data": {
      "text/plain": [
       "2.569672131147541"
      ]
     },
     "execution_count": 28,
     "metadata": {},
     "output_type": "execute_result"
    }
   ],
   "source": [
    "np.mean(datac[:,7])"
   ]
  },
  {
   "cell_type": "markdown",
   "id": "02d74711",
   "metadata": {},
   "source": [
    "### 10. How many female and male smokers are there?\n"
   ]
  },
  {
   "cell_type": "code",
   "execution_count": 38,
   "id": "e4b827c6",
   "metadata": {},
   "outputs": [
    {
     "name": "stdout",
     "output_type": "stream",
     "text": [
      "Female smokers :  33\n",
      "Male smokers :  60\n"
     ]
    }
   ],
   "source": [
    "x1=np.unique(datac[:,3].take(np.where(datac[:,4]==1)),return_counts=True)\n",
    "a,b=x1\n",
    "for i in a:\n",
    "    if (i==0):\n",
    "        print(\"Female smokers : \",b[0])\n",
    "    else:\n",
    "        print(\"Male smokers : \",b[1])\n"
   ]
  },
  {
   "cell_type": "code",
   "execution_count": null,
   "id": "65da4f9e",
   "metadata": {},
   "outputs": [],
   "source": []
  },
  {
   "cell_type": "markdown",
   "id": "617c800b",
   "metadata": {},
   "source": [
    "## 2.Solve the below problem by using only numpy functions on the  below given data set"
   ]
  },
  {
   "cell_type": "code",
   "execution_count": 4,
   "id": "a62e238f",
   "metadata": {},
   "outputs": [],
   "source": [
    "t=np.genfromtxt(r\"C:\\Users\\prave\\Downloads\\train_extended.csv\",delimiter=\",\",skip_header=1)"
   ]
  },
  {
   "cell_type": "code",
   "execution_count": 14,
   "id": "758d4302",
   "metadata": {},
   "outputs": [],
   "source": [
    "train=t.copy()"
   ]
  },
  {
   "cell_type": "code",
   "execution_count": 15,
   "id": "8dc0eb20",
   "metadata": {},
   "outputs": [
    {
     "data": {
      "text/plain": [
       "array([[ 1.575     ,  1.225     ,  0.375     , ...,  6.3219385 ,\n",
       "         9.63883   , 10.        ],\n",
       "       [ 1.2375    ,  1.        ,  0.375     , ...,  3.798833  ,\n",
       "         7.654365  , 19.        ],\n",
       "       [ 1.45      ,  1.1625    ,  0.4125    , ...,  7.01650125,\n",
       "         7.257472  , 11.        ],\n",
       "       ...,\n",
       "       [ 1.125     ,  0.9125    ,  0.2875    , ...,  1.984465  ,\n",
       "         3.118445  ,  7.        ],\n",
       "       [ 1.625     ,  1.275     ,  0.4125    , ...,  7.86698625,\n",
       "        10.489315  , 11.        ],\n",
       "       [ 1.5875    ,  1.25      ,  0.3875    , ...,  7.38504475,\n",
       "         8.788345  , 11.        ]])"
      ]
     },
     "execution_count": 15,
     "metadata": {},
     "output_type": "execute_result"
    }
   ],
   "source": [
    "train"
   ]
  },
  {
   "cell_type": "markdown",
   "id": "24161a40",
   "metadata": {},
   "source": [
    "### 1.What is max and min length?"
   ]
  },
  {
   "cell_type": "code",
   "execution_count": 18,
   "id": "6fa84ef1",
   "metadata": {},
   "outputs": [
    {
     "data": {
      "text/plain": [
       "7.58349125"
      ]
     },
     "execution_count": 18,
     "metadata": {},
     "output_type": "execute_result"
    }
   ],
   "source": [
    "np.max(train[:,0])"
   ]
  },
  {
   "cell_type": "code",
   "execution_count": 19,
   "id": "ddcdcce1",
   "metadata": {},
   "outputs": [
    {
     "data": {
      "text/plain": [
       "0.0"
      ]
     },
     "execution_count": 19,
     "metadata": {},
     "output_type": "execute_result"
    }
   ],
   "source": [
    "np.min(train[:,0])"
   ]
  },
  {
   "cell_type": "markdown",
   "id": "cc354d4b",
   "metadata": {},
   "source": [
    "### 2. Difference between max and min length\n"
   ]
  },
  {
   "cell_type": "code",
   "execution_count": 20,
   "id": "463cb064",
   "metadata": {},
   "outputs": [
    {
     "data": {
      "text/plain": [
       "7.58349125"
      ]
     },
     "execution_count": 20,
     "metadata": {},
     "output_type": "execute_result"
    }
   ],
   "source": [
    "np.max(train[:,0])-np.min(train[:,0])"
   ]
  },
  {
   "cell_type": "markdown",
   "id": "f42439ad",
   "metadata": {},
   "source": [
    "### 3.Find column wise average"
   ]
  },
  {
   "cell_type": "code",
   "execution_count": 22,
   "id": "2dc1f08b",
   "metadata": {},
   "outputs": [
    {
     "data": {
      "text/plain": [
       "array([ 1.31244808,  1.02032036,  0.34602787, 23.12343631,  9.98937025,\n",
       "        4.99318096,  6.63422915,  9.950615  ])"
      ]
     },
     "execution_count": 22,
     "metadata": {},
     "output_type": "execute_result"
    }
   ],
   "source": [
    "np.mean(train,axis=0)"
   ]
  },
  {
   "cell_type": "markdown",
   "id": "3b842abb",
   "metadata": {},
   "source": [
    "### 4.Find out all the age whose height is greater than 0.4"
   ]
  },
  {
   "cell_type": "code",
   "execution_count": 25,
   "id": "31a1de3a",
   "metadata": {},
   "outputs": [],
   "source": [
    "x1=train[:,7].take(np.where(train[:,2]>0.4))"
   ]
  },
  {
   "cell_type": "code",
   "execution_count": 26,
   "id": "cc01c154",
   "metadata": {},
   "outputs": [
    {
     "data": {
      "text/plain": [
       "array([[11., 14., 13., ..., 11., 11., 11.]])"
      ]
     },
     "execution_count": 26,
     "metadata": {},
     "output_type": "execute_result"
    }
   ],
   "source": [
    "x1"
   ]
  },
  {
   "cell_type": "markdown",
   "id": "774eb25f",
   "metadata": {},
   "source": [
    "### 5. Avg height,weight whose age is 10"
   ]
  },
  {
   "cell_type": "code",
   "execution_count": 34,
   "id": "a47680b2",
   "metadata": {},
   "outputs": [
    {
     "name": "stdout",
     "output_type": "stream",
     "text": [
      "avg height whose age is 10 =  0.3833672856539947\n",
      "avg weight whose age is 10 =  28.243308450511314\n"
     ]
    }
   ],
   "source": [
    "x1=np.array(train[:,2].take(np.where(train[:,7]==10)))\n",
    "print(\"avg height whose age is 10 = \",np.mean(x1))\n",
    "x2=np.array(train[:,3].take(np.where(train[:,7]==10)))\n",
    "print(\"avg weight whose age is 10 = \",np.mean(x2))"
   ]
  },
  {
   "cell_type": "markdown",
   "id": "b520ea2f",
   "metadata": {},
   "source": [
    "### 6. What is total shell weight?"
   ]
  },
  {
   "cell_type": "code",
   "execution_count": 37,
   "id": "b99e5468",
   "metadata": {},
   "outputs": [
    {
     "data": {
      "text/plain": [
       "1326845.8295214002"
      ]
     },
     "execution_count": 37,
     "metadata": {},
     "output_type": "execute_result"
    }
   ],
   "source": [
    "np.sum(train[:,6])"
   ]
  },
  {
   "cell_type": "markdown",
   "id": "e3d1682e",
   "metadata": {},
   "source": [
    "### 7. How many people belongs to each and every unique age"
   ]
  },
  {
   "cell_type": "code",
   "execution_count": 46,
   "id": "4cdd8be2",
   "metadata": {},
   "outputs": [
    {
     "data": {
      "text/plain": [
       "(array([ 1.,  2.,  3.,  4.,  5.,  6.,  7.,  8.,  9., 10., 11., 12., 13.,\n",
       "        14., 15., 16., 17., 18., 19., 20., 21., 22., 23., 24., 25., 26.,\n",
       "        27., 29.]),\n",
       " array([   46,    42,   625,  2787,  5475, 12450, 18276, 26818, 32906,\n",
       "        30803, 23457, 12717, 10037,  6352,  4831,  3191,  2705,  1953,\n",
       "         1591,  1206,   721,   296,   352,   110,    51,    46,    99,\n",
       "           57], dtype=int64))"
      ]
     },
     "execution_count": 46,
     "metadata": {},
     "output_type": "execute_result"
    }
   ],
   "source": [
    "np.unique(train[:,7],return_counts=True)"
   ]
  },
  {
   "cell_type": "markdown",
   "id": "02cf16d8",
   "metadata": {},
   "source": [
    "### 8. Difference b/w shuckled and viscera weight"
   ]
  },
  {
   "cell_type": "code",
   "execution_count": 47,
   "id": "49528821",
   "metadata": {},
   "outputs": [
    {
     "name": "stdout",
     "output_type": "stream",
     "text": [
      "Difference b/w shuckled and viscera weight =  999237.8582600503\n"
     ]
    }
   ],
   "source": [
    "x1=np.sum(train[:,4])\n",
    "x2=np.sum(train[:,5])\n",
    "print(\"Difference b/w shuckled and viscera weight = \",x1-x2)"
   ]
  },
  {
   "cell_type": "markdown",
   "id": "184f9e6e",
   "metadata": {},
   "source": [
    "### 9. Avg height of person whose age is greater than 14 and less than 19"
   ]
  },
  {
   "cell_type": "code",
   "execution_count": 52,
   "id": "428b4909",
   "metadata": {},
   "outputs": [
    {
     "data": {
      "text/plain": [
       "0.4190701892744479"
      ]
     },
     "execution_count": 52,
     "metadata": {},
     "output_type": "execute_result"
    }
   ],
   "source": [
    "x1=np.array(train[:,2].take(np.where((train[:,7]>14) & (train[:,7]<19))))\n",
    "np.mean(x1)\n"
   ]
  },
  {
   "cell_type": "markdown",
   "id": "25492d62",
   "metadata": {},
   "source": [
    "### 10 . Avg weight if we include all weights"
   ]
  },
  {
   "cell_type": "code",
   "execution_count": 54,
   "id": "13dd1177",
   "metadata": {},
   "outputs": [],
   "source": [
    "x1=np.sum(train[:,3:7])"
   ]
  },
  {
   "cell_type": "code",
   "execution_count": 56,
   "id": "852d5aad",
   "metadata": {},
   "outputs": [
    {
     "data": {
      "text/plain": [
       "(200000, 8)"
      ]
     },
     "execution_count": 56,
     "metadata": {},
     "output_type": "execute_result"
    }
   ],
   "source": [
    "train.shape"
   ]
  },
  {
   "cell_type": "code",
   "execution_count": 57,
   "id": "bf2f1a7f",
   "metadata": {},
   "outputs": [],
   "source": [
    "s=list(train.shape)"
   ]
  },
  {
   "cell_type": "code",
   "execution_count": 58,
   "id": "92bffb00",
   "metadata": {},
   "outputs": [
    {
     "data": {
      "text/plain": [
       "200000"
      ]
     },
     "execution_count": 58,
     "metadata": {},
     "output_type": "execute_result"
    }
   ],
   "source": [
    "s[0]"
   ]
  },
  {
   "cell_type": "code",
   "execution_count": 63,
   "id": "8f50e179",
   "metadata": {},
   "outputs": [
    {
     "name": "stdout",
     "output_type": "stream",
     "text": [
      "Avg weight if we include all weights =  44.740216665387145\n"
     ]
    }
   ],
   "source": [
    "print(\"Avg weight if we include all weights = \",x1/s[0])"
   ]
  },
  {
   "cell_type": "code",
   "execution_count": null,
   "id": "252b744b",
   "metadata": {},
   "outputs": [],
   "source": []
  }
 ],
 "metadata": {
  "kernelspec": {
   "display_name": "Python 3 (ipykernel)",
   "language": "python",
   "name": "python3"
  },
  "language_info": {
   "codemirror_mode": {
    "name": "ipython",
    "version": 3
   },
   "file_extension": ".py",
   "mimetype": "text/x-python",
   "name": "python",
   "nbconvert_exporter": "python",
   "pygments_lexer": "ipython3",
   "version": "3.10.9"
  }
 },
 "nbformat": 4,
 "nbformat_minor": 5
}
